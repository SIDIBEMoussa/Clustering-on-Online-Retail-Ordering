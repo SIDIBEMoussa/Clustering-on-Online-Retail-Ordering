{
  "cells": [
    {
      "cell_type": "markdown",
      "metadata": {
        "id": "view-in-github",
        "colab_type": "text"
      },
      "source": [
        "<a href=\"https://colab.research.google.com/github/SIDIBEMoussa/Clustering-on-Online-Retail-Ordering/blob/main/Feature_engineering_and_encoding.ipynb\" target=\"_parent\"><img src=\"https://colab.research.google.com/assets/colab-badge.svg\" alt=\"Open In Colab\"/></a>"
      ]
    },
    {
      "cell_type": "markdown",
      "metadata": {
        "id": "bc_I4wNuhWJS"
      },
      "source": [
        "### Package loading"
      ]
    },
    {
      "cell_type": "code",
      "execution_count": 1,
      "metadata": {
        "id": "lAFlWMkEhWJZ"
      },
      "outputs": [],
      "source": [
        "import pandas as pd\n",
        "import seaborn as sns\n",
        "import matplotlib.pyplot as plt\n",
        "import numpy as np\n",
        "from scipy import stats\n",
        "from random import seed\n",
        "plt.style.use(\"seaborn\")\n",
        "\n",
        "from warnings import filterwarnings\n",
        "\n",
        "filterwarnings(\"ignore\")\n",
        "\n",
        "seed(0)"
      ]
    },
    {
      "cell_type": "markdown",
      "metadata": {
        "id": "_uzmfAZ3hWJi"
      },
      "source": [
        "### Loading data"
      ]
    },
    {
      "cell_type": "code",
      "execution_count": 2,
      "metadata": {
        "id": "vm-XymiRhWJj"
      },
      "outputs": [],
      "source": [
        "clust_data=pd.read_excel(\"Online Retail.xlsx\")"
      ]
    },
    {
      "cell_type": "code",
      "execution_count": 3,
      "metadata": {
        "colab": {
          "base_uri": "https://localhost:8080/",
          "height": 337
        },
        "id": "CTqmuwGxhWJk",
        "outputId": "0ff7e282-18cb-452a-a0c4-ca1d4f4a5f25"
      },
      "outputs": [
        {
          "output_type": "execute_result",
          "data": {
            "text/plain": [
              "  InvoiceNo StockCode                          Description  Quantity  \\\n",
              "0    536365    85123A   WHITE HANGING HEART T-LIGHT HOLDER         6   \n",
              "1    536365     71053                  WHITE METAL LANTERN         6   \n",
              "2    536365    84406B       CREAM CUPID HEARTS COAT HANGER         8   \n",
              "3    536365    84029G  KNITTED UNION FLAG HOT WATER BOTTLE         6   \n",
              "4    536365    84029E       RED WOOLLY HOTTIE WHITE HEART.         6   \n",
              "\n",
              "          InvoiceDate  UnitPrice  CustomerID         Country  \n",
              "0 2010-12-01 08:26:00       2.55     17850.0  United Kingdom  \n",
              "1 2010-12-01 08:26:00       3.39     17850.0  United Kingdom  \n",
              "2 2010-12-01 08:26:00       2.75     17850.0  United Kingdom  \n",
              "3 2010-12-01 08:26:00       3.39     17850.0  United Kingdom  \n",
              "4 2010-12-01 08:26:00       3.39     17850.0  United Kingdom  "
            ],
            "text/html": [
              "\n",
              "  <div id=\"df-bf4190a7-f578-4741-a9aa-2f25de4a85b4\">\n",
              "    <div class=\"colab-df-container\">\n",
              "      <div>\n",
              "<style scoped>\n",
              "    .dataframe tbody tr th:only-of-type {\n",
              "        vertical-align: middle;\n",
              "    }\n",
              "\n",
              "    .dataframe tbody tr th {\n",
              "        vertical-align: top;\n",
              "    }\n",
              "\n",
              "    .dataframe thead th {\n",
              "        text-align: right;\n",
              "    }\n",
              "</style>\n",
              "<table border=\"1\" class=\"dataframe\">\n",
              "  <thead>\n",
              "    <tr style=\"text-align: right;\">\n",
              "      <th></th>\n",
              "      <th>InvoiceNo</th>\n",
              "      <th>StockCode</th>\n",
              "      <th>Description</th>\n",
              "      <th>Quantity</th>\n",
              "      <th>InvoiceDate</th>\n",
              "      <th>UnitPrice</th>\n",
              "      <th>CustomerID</th>\n",
              "      <th>Country</th>\n",
              "    </tr>\n",
              "  </thead>\n",
              "  <tbody>\n",
              "    <tr>\n",
              "      <th>0</th>\n",
              "      <td>536365</td>\n",
              "      <td>85123A</td>\n",
              "      <td>WHITE HANGING HEART T-LIGHT HOLDER</td>\n",
              "      <td>6</td>\n",
              "      <td>2010-12-01 08:26:00</td>\n",
              "      <td>2.55</td>\n",
              "      <td>17850.0</td>\n",
              "      <td>United Kingdom</td>\n",
              "    </tr>\n",
              "    <tr>\n",
              "      <th>1</th>\n",
              "      <td>536365</td>\n",
              "      <td>71053</td>\n",
              "      <td>WHITE METAL LANTERN</td>\n",
              "      <td>6</td>\n",
              "      <td>2010-12-01 08:26:00</td>\n",
              "      <td>3.39</td>\n",
              "      <td>17850.0</td>\n",
              "      <td>United Kingdom</td>\n",
              "    </tr>\n",
              "    <tr>\n",
              "      <th>2</th>\n",
              "      <td>536365</td>\n",
              "      <td>84406B</td>\n",
              "      <td>CREAM CUPID HEARTS COAT HANGER</td>\n",
              "      <td>8</td>\n",
              "      <td>2010-12-01 08:26:00</td>\n",
              "      <td>2.75</td>\n",
              "      <td>17850.0</td>\n",
              "      <td>United Kingdom</td>\n",
              "    </tr>\n",
              "    <tr>\n",
              "      <th>3</th>\n",
              "      <td>536365</td>\n",
              "      <td>84029G</td>\n",
              "      <td>KNITTED UNION FLAG HOT WATER BOTTLE</td>\n",
              "      <td>6</td>\n",
              "      <td>2010-12-01 08:26:00</td>\n",
              "      <td>3.39</td>\n",
              "      <td>17850.0</td>\n",
              "      <td>United Kingdom</td>\n",
              "    </tr>\n",
              "    <tr>\n",
              "      <th>4</th>\n",
              "      <td>536365</td>\n",
              "      <td>84029E</td>\n",
              "      <td>RED WOOLLY HOTTIE WHITE HEART.</td>\n",
              "      <td>6</td>\n",
              "      <td>2010-12-01 08:26:00</td>\n",
              "      <td>3.39</td>\n",
              "      <td>17850.0</td>\n",
              "      <td>United Kingdom</td>\n",
              "    </tr>\n",
              "  </tbody>\n",
              "</table>\n",
              "</div>\n",
              "      <button class=\"colab-df-convert\" onclick=\"convertToInteractive('df-bf4190a7-f578-4741-a9aa-2f25de4a85b4')\"\n",
              "              title=\"Convert this dataframe to an interactive table.\"\n",
              "              style=\"display:none;\">\n",
              "        \n",
              "  <svg xmlns=\"http://www.w3.org/2000/svg\" height=\"24px\"viewBox=\"0 0 24 24\"\n",
              "       width=\"24px\">\n",
              "    <path d=\"M0 0h24v24H0V0z\" fill=\"none\"/>\n",
              "    <path d=\"M18.56 5.44l.94 2.06.94-2.06 2.06-.94-2.06-.94-.94-2.06-.94 2.06-2.06.94zm-11 1L8.5 8.5l.94-2.06 2.06-.94-2.06-.94L8.5 2.5l-.94 2.06-2.06.94zm10 10l.94 2.06.94-2.06 2.06-.94-2.06-.94-.94-2.06-.94 2.06-2.06.94z\"/><path d=\"M17.41 7.96l-1.37-1.37c-.4-.4-.92-.59-1.43-.59-.52 0-1.04.2-1.43.59L10.3 9.45l-7.72 7.72c-.78.78-.78 2.05 0 2.83L4 21.41c.39.39.9.59 1.41.59.51 0 1.02-.2 1.41-.59l7.78-7.78 2.81-2.81c.8-.78.8-2.07 0-2.86zM5.41 20L4 18.59l7.72-7.72 1.47 1.35L5.41 20z\"/>\n",
              "  </svg>\n",
              "      </button>\n",
              "      \n",
              "  <style>\n",
              "    .colab-df-container {\n",
              "      display:flex;\n",
              "      flex-wrap:wrap;\n",
              "      gap: 12px;\n",
              "    }\n",
              "\n",
              "    .colab-df-convert {\n",
              "      background-color: #E8F0FE;\n",
              "      border: none;\n",
              "      border-radius: 50%;\n",
              "      cursor: pointer;\n",
              "      display: none;\n",
              "      fill: #1967D2;\n",
              "      height: 32px;\n",
              "      padding: 0 0 0 0;\n",
              "      width: 32px;\n",
              "    }\n",
              "\n",
              "    .colab-df-convert:hover {\n",
              "      background-color: #E2EBFA;\n",
              "      box-shadow: 0px 1px 2px rgba(60, 64, 67, 0.3), 0px 1px 3px 1px rgba(60, 64, 67, 0.15);\n",
              "      fill: #174EA6;\n",
              "    }\n",
              "\n",
              "    [theme=dark] .colab-df-convert {\n",
              "      background-color: #3B4455;\n",
              "      fill: #D2E3FC;\n",
              "    }\n",
              "\n",
              "    [theme=dark] .colab-df-convert:hover {\n",
              "      background-color: #434B5C;\n",
              "      box-shadow: 0px 1px 3px 1px rgba(0, 0, 0, 0.15);\n",
              "      filter: drop-shadow(0px 1px 2px rgba(0, 0, 0, 0.3));\n",
              "      fill: #FFFFFF;\n",
              "    }\n",
              "  </style>\n",
              "\n",
              "      <script>\n",
              "        const buttonEl =\n",
              "          document.querySelector('#df-bf4190a7-f578-4741-a9aa-2f25de4a85b4 button.colab-df-convert');\n",
              "        buttonEl.style.display =\n",
              "          google.colab.kernel.accessAllowed ? 'block' : 'none';\n",
              "\n",
              "        async function convertToInteractive(key) {\n",
              "          const element = document.querySelector('#df-bf4190a7-f578-4741-a9aa-2f25de4a85b4');\n",
              "          const dataTable =\n",
              "            await google.colab.kernel.invokeFunction('convertToInteractive',\n",
              "                                                     [key], {});\n",
              "          if (!dataTable) return;\n",
              "\n",
              "          const docLinkHtml = 'Like what you see? Visit the ' +\n",
              "            '<a target=\"_blank\" href=https://colab.research.google.com/notebooks/data_table.ipynb>data table notebook</a>'\n",
              "            + ' to learn more about interactive tables.';\n",
              "          element.innerHTML = '';\n",
              "          dataTable['output_type'] = 'display_data';\n",
              "          await google.colab.output.renderOutput(dataTable, element);\n",
              "          const docLink = document.createElement('div');\n",
              "          docLink.innerHTML = docLinkHtml;\n",
              "          element.appendChild(docLink);\n",
              "        }\n",
              "      </script>\n",
              "    </div>\n",
              "  </div>\n",
              "  "
            ]
          },
          "metadata": {},
          "execution_count": 3
        }
      ],
      "source": [
        "clust_data.head()"
      ]
    },
    {
      "cell_type": "markdown",
      "metadata": {
        "id": "B47o0EYfhWJm"
      },
      "source": [
        "### Feature engineering"
      ]
    },
    {
      "cell_type": "code",
      "execution_count": 4,
      "metadata": {
        "id": "zmiWwlXThWJn"
      },
      "outputs": [],
      "source": [
        "clust_data[\"Order_price\"]=clust_data[\"Quantity\"]*clust_data[\"UnitPrice\"]\n",
        "clust_data[\"Order_status\"]=[\"Done\" if order_price>0 else \"Cancelled\" for order_price in clust_data[\"Order_price\"]]\n",
        "clust_data[\"Year\"]=clust_data[\"InvoiceDate\"].dt.year\n",
        "clust_data[\"Month\"]=clust_data[\"InvoiceDate\"].dt.month\n",
        "clust_data[\"Day\"]=clust_data[\"InvoiceDate\"].dt.day\n",
        "clust_data[\"Hour\"]=clust_data[\"InvoiceDate\"].dt.hour\n",
        "clust_data[\"Minute\"]=clust_data[\"InvoiceDate\"].dt.minute"
      ]
    },
    {
      "cell_type": "markdown",
      "metadata": {
        "id": "fjjkaXIKhWJq"
      },
      "source": [
        "### Data wrangling"
      ]
    },
    {
      "cell_type": "code",
      "execution_count": 5,
      "metadata": {
        "colab": {
          "base_uri": "https://localhost:8080/"
        },
        "id": "u2phqzqAhWJr",
        "outputId": "9fc2978c-0142-4c20-e512-77dc6b770df7"
      },
      "outputs": [
        {
          "output_type": "execute_result",
          "data": {
            "text/plain": [
              "InvoiceNo            0\n",
              "StockCode            0\n",
              "Description       1454\n",
              "Quantity             0\n",
              "InvoiceDate          0\n",
              "UnitPrice            0\n",
              "CustomerID      135080\n",
              "Country              0\n",
              "Order_price          0\n",
              "Order_status         0\n",
              "Year                 0\n",
              "Month                0\n",
              "Day                  0\n",
              "Hour                 0\n",
              "Minute               0\n",
              "dtype: int64"
            ]
          },
          "metadata": {},
          "execution_count": 5
        }
      ],
      "source": [
        "## How many not defined data per columns\n",
        "\n",
        "clust_data.isna().sum()"
      ]
    },
    {
      "cell_type": "code",
      "execution_count": 6,
      "metadata": {
        "colab": {
          "base_uri": "https://localhost:8080/"
        },
        "id": "GFPz1HWWhWJs",
        "outputId": "e69c0082-cf8d-4fc9-ff17-d8fc970ad583"
      },
      "outputs": [
        {
          "output_type": "execute_result",
          "data": {
            "text/plain": [
              "InvoiceNo          0\n",
              "StockCode          0\n",
              "Description     1454\n",
              "Quantity           0\n",
              "InvoiceDate        0\n",
              "UnitPrice          0\n",
              "CustomerID      2860\n",
              "Country            0\n",
              "Order_price        0\n",
              "Order_status       0\n",
              "Year               0\n",
              "Month              0\n",
              "Day                0\n",
              "Hour               0\n",
              "Minute             0\n",
              "dtype: int64"
            ]
          },
          "metadata": {},
          "execution_count": 6
        }
      ],
      "source": [
        "clust_data[clust_data[\"Order_status\"]==\"Cancelled\"].isna().sum()"
      ]
    },
    {
      "cell_type": "markdown",
      "metadata": {
        "id": "DQtVkZY4hWJt"
      },
      "source": [
        "For orders without `Description` label have all 0.0 as `UnitPrice` then it is difficult to track these product and at the same time we haven't `CustomerID`. Then these rows can't be useful for this clutering, subquently we will drop then from our data."
      ]
    },
    {
      "cell_type": "code",
      "execution_count": 7,
      "metadata": {
        "id": "H1MugaYOhWJu"
      },
      "outputs": [],
      "source": [
        "clust_data=clust_data[clust_data[\"Description\"].notna()]\n",
        "clust_data[\"CustomerID\"]=clust_data[\"CustomerID\"].astype(\"object\")"
      ]
    },
    {
      "cell_type": "code",
      "execution_count": 8,
      "metadata": {
        "id": "8tSbCsvyhWJv"
      },
      "outputs": [],
      "source": [
        "cancelled=clust_data[clust_data[\"Order_status\"]==\"Cancelled\"]\n",
        "Done=clust_data[clust_data[\"Order_status\"]==\"Done\"]"
      ]
    },
    {
      "cell_type": "markdown",
      "metadata": {
        "id": "8CuDPAgbhWJw"
      },
      "source": [
        "Some values of UnitPrice are not acceptable like 0.00 and also the max values that have the same problem of description name. For data quality we have to keep out these views from our data."
      ]
    },
    {
      "cell_type": "code",
      "execution_count": 9,
      "metadata": {
        "id": "zh4i6z2khWJx"
      },
      "outputs": [],
      "source": [
        "clust_data=clust_data[clust_data[\"UnitPrice\"]!=0.0]\n",
        "clust_data=clust_data[clust_data[\"UnitPrice\"]!=clust_data[\"UnitPrice\"].max()]"
      ]
    },
    {
      "cell_type": "markdown",
      "metadata": {
        "id": "Qgp5596phWJy"
      },
      "source": [
        "### Data description"
      ]
    },
    {
      "cell_type": "code",
      "execution_count": 10,
      "metadata": {
        "colab": {
          "base_uri": "https://localhost:8080/",
          "height": 0
        },
        "id": "ECCmXHMyhWJy",
        "outputId": "964b0309-5602-4551-8c82-473a3ce2ac03"
      },
      "outputs": [
        {
          "output_type": "execute_result",
          "data": {
            "text/plain": [
              "            Quantity      UnitPrice    Order_price\n",
              "count  539393.000000  539393.000000  539393.000000\n",
              "mean        9.845892       4.560374      18.143947\n",
              "std       215.412452      81.186206     375.961898\n",
              "min    -80995.000000  -11062.060000 -168469.600000\n",
              "25%         1.000000       1.250000       3.750000\n",
              "50%         3.000000       2.080000       9.840000\n",
              "75%        10.000000       4.130000      17.400000\n",
              "max     80995.000000   17836.460000  168469.600000"
            ],
            "text/html": [
              "\n",
              "  <div id=\"df-e515bfe8-2305-43e2-b680-94d2fb012e8e\">\n",
              "    <div class=\"colab-df-container\">\n",
              "      <div>\n",
              "<style scoped>\n",
              "    .dataframe tbody tr th:only-of-type {\n",
              "        vertical-align: middle;\n",
              "    }\n",
              "\n",
              "    .dataframe tbody tr th {\n",
              "        vertical-align: top;\n",
              "    }\n",
              "\n",
              "    .dataframe thead th {\n",
              "        text-align: right;\n",
              "    }\n",
              "</style>\n",
              "<table border=\"1\" class=\"dataframe\">\n",
              "  <thead>\n",
              "    <tr style=\"text-align: right;\">\n",
              "      <th></th>\n",
              "      <th>Quantity</th>\n",
              "      <th>UnitPrice</th>\n",
              "      <th>Order_price</th>\n",
              "    </tr>\n",
              "  </thead>\n",
              "  <tbody>\n",
              "    <tr>\n",
              "      <th>count</th>\n",
              "      <td>539393.000000</td>\n",
              "      <td>539393.000000</td>\n",
              "      <td>539393.000000</td>\n",
              "    </tr>\n",
              "    <tr>\n",
              "      <th>mean</th>\n",
              "      <td>9.845892</td>\n",
              "      <td>4.560374</td>\n",
              "      <td>18.143947</td>\n",
              "    </tr>\n",
              "    <tr>\n",
              "      <th>std</th>\n",
              "      <td>215.412452</td>\n",
              "      <td>81.186206</td>\n",
              "      <td>375.961898</td>\n",
              "    </tr>\n",
              "    <tr>\n",
              "      <th>min</th>\n",
              "      <td>-80995.000000</td>\n",
              "      <td>-11062.060000</td>\n",
              "      <td>-168469.600000</td>\n",
              "    </tr>\n",
              "    <tr>\n",
              "      <th>25%</th>\n",
              "      <td>1.000000</td>\n",
              "      <td>1.250000</td>\n",
              "      <td>3.750000</td>\n",
              "    </tr>\n",
              "    <tr>\n",
              "      <th>50%</th>\n",
              "      <td>3.000000</td>\n",
              "      <td>2.080000</td>\n",
              "      <td>9.840000</td>\n",
              "    </tr>\n",
              "    <tr>\n",
              "      <th>75%</th>\n",
              "      <td>10.000000</td>\n",
              "      <td>4.130000</td>\n",
              "      <td>17.400000</td>\n",
              "    </tr>\n",
              "    <tr>\n",
              "      <th>max</th>\n",
              "      <td>80995.000000</td>\n",
              "      <td>17836.460000</td>\n",
              "      <td>168469.600000</td>\n",
              "    </tr>\n",
              "  </tbody>\n",
              "</table>\n",
              "</div>\n",
              "      <button class=\"colab-df-convert\" onclick=\"convertToInteractive('df-e515bfe8-2305-43e2-b680-94d2fb012e8e')\"\n",
              "              title=\"Convert this dataframe to an interactive table.\"\n",
              "              style=\"display:none;\">\n",
              "        \n",
              "  <svg xmlns=\"http://www.w3.org/2000/svg\" height=\"24px\"viewBox=\"0 0 24 24\"\n",
              "       width=\"24px\">\n",
              "    <path d=\"M0 0h24v24H0V0z\" fill=\"none\"/>\n",
              "    <path d=\"M18.56 5.44l.94 2.06.94-2.06 2.06-.94-2.06-.94-.94-2.06-.94 2.06-2.06.94zm-11 1L8.5 8.5l.94-2.06 2.06-.94-2.06-.94L8.5 2.5l-.94 2.06-2.06.94zm10 10l.94 2.06.94-2.06 2.06-.94-2.06-.94-.94-2.06-.94 2.06-2.06.94z\"/><path d=\"M17.41 7.96l-1.37-1.37c-.4-.4-.92-.59-1.43-.59-.52 0-1.04.2-1.43.59L10.3 9.45l-7.72 7.72c-.78.78-.78 2.05 0 2.83L4 21.41c.39.39.9.59 1.41.59.51 0 1.02-.2 1.41-.59l7.78-7.78 2.81-2.81c.8-.78.8-2.07 0-2.86zM5.41 20L4 18.59l7.72-7.72 1.47 1.35L5.41 20z\"/>\n",
              "  </svg>\n",
              "      </button>\n",
              "      \n",
              "  <style>\n",
              "    .colab-df-container {\n",
              "      display:flex;\n",
              "      flex-wrap:wrap;\n",
              "      gap: 12px;\n",
              "    }\n",
              "\n",
              "    .colab-df-convert {\n",
              "      background-color: #E8F0FE;\n",
              "      border: none;\n",
              "      border-radius: 50%;\n",
              "      cursor: pointer;\n",
              "      display: none;\n",
              "      fill: #1967D2;\n",
              "      height: 32px;\n",
              "      padding: 0 0 0 0;\n",
              "      width: 32px;\n",
              "    }\n",
              "\n",
              "    .colab-df-convert:hover {\n",
              "      background-color: #E2EBFA;\n",
              "      box-shadow: 0px 1px 2px rgba(60, 64, 67, 0.3), 0px 1px 3px 1px rgba(60, 64, 67, 0.15);\n",
              "      fill: #174EA6;\n",
              "    }\n",
              "\n",
              "    [theme=dark] .colab-df-convert {\n",
              "      background-color: #3B4455;\n",
              "      fill: #D2E3FC;\n",
              "    }\n",
              "\n",
              "    [theme=dark] .colab-df-convert:hover {\n",
              "      background-color: #434B5C;\n",
              "      box-shadow: 0px 1px 3px 1px rgba(0, 0, 0, 0.15);\n",
              "      filter: drop-shadow(0px 1px 2px rgba(0, 0, 0, 0.3));\n",
              "      fill: #FFFFFF;\n",
              "    }\n",
              "  </style>\n",
              "\n",
              "      <script>\n",
              "        const buttonEl =\n",
              "          document.querySelector('#df-e515bfe8-2305-43e2-b680-94d2fb012e8e button.colab-df-convert');\n",
              "        buttonEl.style.display =\n",
              "          google.colab.kernel.accessAllowed ? 'block' : 'none';\n",
              "\n",
              "        async function convertToInteractive(key) {\n",
              "          const element = document.querySelector('#df-e515bfe8-2305-43e2-b680-94d2fb012e8e');\n",
              "          const dataTable =\n",
              "            await google.colab.kernel.invokeFunction('convertToInteractive',\n",
              "                                                     [key], {});\n",
              "          if (!dataTable) return;\n",
              "\n",
              "          const docLinkHtml = 'Like what you see? Visit the ' +\n",
              "            '<a target=\"_blank\" href=https://colab.research.google.com/notebooks/data_table.ipynb>data table notebook</a>'\n",
              "            + ' to learn more about interactive tables.';\n",
              "          element.innerHTML = '';\n",
              "          dataTable['output_type'] = 'display_data';\n",
              "          await google.colab.output.renderOutput(dataTable, element);\n",
              "          const docLink = document.createElement('div');\n",
              "          docLink.innerHTML = docLinkHtml;\n",
              "          element.appendChild(docLink);\n",
              "        }\n",
              "      </script>\n",
              "    </div>\n",
              "  </div>\n",
              "  "
            ]
          },
          "metadata": {},
          "execution_count": 10
        }
      ],
      "source": [
        "### Data description\n",
        "\n",
        "clust_data[[\"Quantity\",\"UnitPrice\",\"Order_price\"]].describe()"
      ]
    },
    {
      "cell_type": "markdown",
      "metadata": {
        "id": "3Cky79BRhWJ0"
      },
      "source": [
        "- We have `std` high than `mean` for both variables Quantity and UnitPrice.Then we have a high varaiance in our data that can be explain by pareto law as 20% of customers create 80% turnover. And also the products have a significant difference in price.\n",
        "\n",
        "- As mentionned in InvoiceNo we have some orders cancelled, the most high number of items order cancelled is 80995 with 168469 `Money Unit`.\n",
        "\n",
        "- Finally our data is very skewed as we can noticed with std>mean, that can lead by considering some observation as outliers."
      ]
    },
    {
      "cell_type": "code",
      "execution_count": 11,
      "metadata": {
        "colab": {
          "base_uri": "https://localhost:8080/",
          "height": 0
        },
        "id": "nBu1MXhmhWJ1",
        "outputId": "47690b3e-08e6-4e1f-ee8b-01538637db95"
      },
      "outputs": [
        {
          "output_type": "execute_result",
          "data": {
            "text/plain": [
              "  InvoiceNo StockCode                         Description  Quantity  \\\n",
              "0    536365    85123A  WHITE HANGING HEART T-LIGHT HOLDER         6   \n",
              "1    536365     71053                 WHITE METAL LANTERN         6   \n",
              "\n",
              "          InvoiceDate  UnitPrice CustomerID         Country  Order_price  \\\n",
              "0 2010-12-01 08:26:00       2.55    17850.0  United Kingdom        15.30   \n",
              "1 2010-12-01 08:26:00       3.39    17850.0  United Kingdom        20.34   \n",
              "\n",
              "  Order_status  Year  Month  Day  Hour  Minute  \n",
              "0         Done  2010     12    1     8      26  \n",
              "1         Done  2010     12    1     8      26  "
            ],
            "text/html": [
              "\n",
              "  <div id=\"df-e1bbde2f-d1cd-42b5-9b60-2db8dc981727\">\n",
              "    <div class=\"colab-df-container\">\n",
              "      <div>\n",
              "<style scoped>\n",
              "    .dataframe tbody tr th:only-of-type {\n",
              "        vertical-align: middle;\n",
              "    }\n",
              "\n",
              "    .dataframe tbody tr th {\n",
              "        vertical-align: top;\n",
              "    }\n",
              "\n",
              "    .dataframe thead th {\n",
              "        text-align: right;\n",
              "    }\n",
              "</style>\n",
              "<table border=\"1\" class=\"dataframe\">\n",
              "  <thead>\n",
              "    <tr style=\"text-align: right;\">\n",
              "      <th></th>\n",
              "      <th>InvoiceNo</th>\n",
              "      <th>StockCode</th>\n",
              "      <th>Description</th>\n",
              "      <th>Quantity</th>\n",
              "      <th>InvoiceDate</th>\n",
              "      <th>UnitPrice</th>\n",
              "      <th>CustomerID</th>\n",
              "      <th>Country</th>\n",
              "      <th>Order_price</th>\n",
              "      <th>Order_status</th>\n",
              "      <th>Year</th>\n",
              "      <th>Month</th>\n",
              "      <th>Day</th>\n",
              "      <th>Hour</th>\n",
              "      <th>Minute</th>\n",
              "    </tr>\n",
              "  </thead>\n",
              "  <tbody>\n",
              "    <tr>\n",
              "      <th>0</th>\n",
              "      <td>536365</td>\n",
              "      <td>85123A</td>\n",
              "      <td>WHITE HANGING HEART T-LIGHT HOLDER</td>\n",
              "      <td>6</td>\n",
              "      <td>2010-12-01 08:26:00</td>\n",
              "      <td>2.55</td>\n",
              "      <td>17850.0</td>\n",
              "      <td>United Kingdom</td>\n",
              "      <td>15.30</td>\n",
              "      <td>Done</td>\n",
              "      <td>2010</td>\n",
              "      <td>12</td>\n",
              "      <td>1</td>\n",
              "      <td>8</td>\n",
              "      <td>26</td>\n",
              "    </tr>\n",
              "    <tr>\n",
              "      <th>1</th>\n",
              "      <td>536365</td>\n",
              "      <td>71053</td>\n",
              "      <td>WHITE METAL LANTERN</td>\n",
              "      <td>6</td>\n",
              "      <td>2010-12-01 08:26:00</td>\n",
              "      <td>3.39</td>\n",
              "      <td>17850.0</td>\n",
              "      <td>United Kingdom</td>\n",
              "      <td>20.34</td>\n",
              "      <td>Done</td>\n",
              "      <td>2010</td>\n",
              "      <td>12</td>\n",
              "      <td>1</td>\n",
              "      <td>8</td>\n",
              "      <td>26</td>\n",
              "    </tr>\n",
              "  </tbody>\n",
              "</table>\n",
              "</div>\n",
              "      <button class=\"colab-df-convert\" onclick=\"convertToInteractive('df-e1bbde2f-d1cd-42b5-9b60-2db8dc981727')\"\n",
              "              title=\"Convert this dataframe to an interactive table.\"\n",
              "              style=\"display:none;\">\n",
              "        \n",
              "  <svg xmlns=\"http://www.w3.org/2000/svg\" height=\"24px\"viewBox=\"0 0 24 24\"\n",
              "       width=\"24px\">\n",
              "    <path d=\"M0 0h24v24H0V0z\" fill=\"none\"/>\n",
              "    <path d=\"M18.56 5.44l.94 2.06.94-2.06 2.06-.94-2.06-.94-.94-2.06-.94 2.06-2.06.94zm-11 1L8.5 8.5l.94-2.06 2.06-.94-2.06-.94L8.5 2.5l-.94 2.06-2.06.94zm10 10l.94 2.06.94-2.06 2.06-.94-2.06-.94-.94-2.06-.94 2.06-2.06.94z\"/><path d=\"M17.41 7.96l-1.37-1.37c-.4-.4-.92-.59-1.43-.59-.52 0-1.04.2-1.43.59L10.3 9.45l-7.72 7.72c-.78.78-.78 2.05 0 2.83L4 21.41c.39.39.9.59 1.41.59.51 0 1.02-.2 1.41-.59l7.78-7.78 2.81-2.81c.8-.78.8-2.07 0-2.86zM5.41 20L4 18.59l7.72-7.72 1.47 1.35L5.41 20z\"/>\n",
              "  </svg>\n",
              "      </button>\n",
              "      \n",
              "  <style>\n",
              "    .colab-df-container {\n",
              "      display:flex;\n",
              "      flex-wrap:wrap;\n",
              "      gap: 12px;\n",
              "    }\n",
              "\n",
              "    .colab-df-convert {\n",
              "      background-color: #E8F0FE;\n",
              "      border: none;\n",
              "      border-radius: 50%;\n",
              "      cursor: pointer;\n",
              "      display: none;\n",
              "      fill: #1967D2;\n",
              "      height: 32px;\n",
              "      padding: 0 0 0 0;\n",
              "      width: 32px;\n",
              "    }\n",
              "\n",
              "    .colab-df-convert:hover {\n",
              "      background-color: #E2EBFA;\n",
              "      box-shadow: 0px 1px 2px rgba(60, 64, 67, 0.3), 0px 1px 3px 1px rgba(60, 64, 67, 0.15);\n",
              "      fill: #174EA6;\n",
              "    }\n",
              "\n",
              "    [theme=dark] .colab-df-convert {\n",
              "      background-color: #3B4455;\n",
              "      fill: #D2E3FC;\n",
              "    }\n",
              "\n",
              "    [theme=dark] .colab-df-convert:hover {\n",
              "      background-color: #434B5C;\n",
              "      box-shadow: 0px 1px 3px 1px rgba(0, 0, 0, 0.15);\n",
              "      filter: drop-shadow(0px 1px 2px rgba(0, 0, 0, 0.3));\n",
              "      fill: #FFFFFF;\n",
              "    }\n",
              "  </style>\n",
              "\n",
              "      <script>\n",
              "        const buttonEl =\n",
              "          document.querySelector('#df-e1bbde2f-d1cd-42b5-9b60-2db8dc981727 button.colab-df-convert');\n",
              "        buttonEl.style.display =\n",
              "          google.colab.kernel.accessAllowed ? 'block' : 'none';\n",
              "\n",
              "        async function convertToInteractive(key) {\n",
              "          const element = document.querySelector('#df-e1bbde2f-d1cd-42b5-9b60-2db8dc981727');\n",
              "          const dataTable =\n",
              "            await google.colab.kernel.invokeFunction('convertToInteractive',\n",
              "                                                     [key], {});\n",
              "          if (!dataTable) return;\n",
              "\n",
              "          const docLinkHtml = 'Like what you see? Visit the ' +\n",
              "            '<a target=\"_blank\" href=https://colab.research.google.com/notebooks/data_table.ipynb>data table notebook</a>'\n",
              "            + ' to learn more about interactive tables.';\n",
              "          element.innerHTML = '';\n",
              "          dataTable['output_type'] = 'display_data';\n",
              "          await google.colab.output.renderOutput(dataTable, element);\n",
              "          const docLink = document.createElement('div');\n",
              "          docLink.innerHTML = docLinkHtml;\n",
              "          element.appendChild(docLink);\n",
              "        }\n",
              "      </script>\n",
              "    </div>\n",
              "  </div>\n",
              "  "
            ]
          },
          "metadata": {},
          "execution_count": 11
        }
      ],
      "source": [
        "clust_data.head(2)"
      ]
    },
    {
      "cell_type": "code",
      "execution_count": 12,
      "metadata": {
        "colab": {
          "base_uri": "https://localhost:8080/"
        },
        "id": "SRNWO1LIhWJ2",
        "outputId": "b5e4fcdb-8189-46a9-f9d0-80a7c33d5fab"
      },
      "outputs": [
        {
          "output_type": "execute_result",
          "data": {
            "text/plain": [
              "(9290, 15)"
            ]
          },
          "metadata": {},
          "execution_count": 12
        }
      ],
      "source": [
        "cancelled[cancelled['Order_price']<0].shape"
      ]
    },
    {
      "cell_type": "code",
      "execution_count": 13,
      "metadata": {
        "id": "bF00ViTUhWJ3"
      },
      "outputs": [],
      "source": [
        "### We will drop orders that where cancelled after ordering. Then we will keep only effective order for\n",
        "### our clustering\n",
        "\n",
        "\"\"\"Usefulness=[]\n",
        "for order_price in cancelled[\"Order_price\"]:\n",
        "\n",
        "    if -1*order_price in Done[\"Order_price\"]:\n",
        "\n",
        "        Usefulness.append(\"Yes\")\n",
        "\n",
        "    else:\n",
        "\n",
        "        Usefulness.append(\"No\")\n",
        "    \n",
        "cancelled[\"Usefulness\"]=Usefulness\"\"\"\n",
        "\n",
        "\n",
        "Usefulness_done=[]\n",
        "\n",
        "\n",
        "for order_price in Done[\"Order_price\"]:\n",
        "\n",
        "    if order_price in -1*cancelled[\"Order_price\"]:\n",
        "\n",
        "        Usefulness_done.append(\"Yes\")\n",
        "\n",
        "    else:\n",
        "\n",
        "        Usefulness_done.append(\"No\")\n",
        "    \n",
        "Done[\"Usefulness\"]=Usefulness_done"
      ]
    },
    {
      "cell_type": "code",
      "execution_count": 14,
      "metadata": {
        "colab": {
          "base_uri": "https://localhost:8080/"
        },
        "id": "RdvUuzdwhWJ5",
        "outputId": "8a671bb0-34a6-4d6d-e83e-6d9402619656"
      },
      "outputs": [
        {
          "output_type": "execute_result",
          "data": {
            "text/plain": [
              "Counter({'No': 530071, 'Yes': 33})"
            ]
          },
          "metadata": {},
          "execution_count": 14
        }
      ],
      "source": [
        "from collections import Counter\n",
        "\n",
        "Counter(Usefulness_done)"
      ]
    },
    {
      "cell_type": "code",
      "execution_count": 15,
      "metadata": {
        "id": "AmzOzc91hWJ6"
      },
      "outputs": [],
      "source": [
        "Done=Done[Done[\"Usefulness\"]==\"No\"].drop(columns=\"Usefulness\")"
      ]
    },
    {
      "cell_type": "code",
      "execution_count": 16,
      "metadata": {
        "id": "ueWb6JbNhWJ7"
      },
      "outputs": [],
      "source": [
        "clust_data_=Done"
      ]
    },
    {
      "cell_type": "markdown",
      "metadata": {
        "id": "OMM2ACE5hWJ8"
      },
      "source": [
        "### Check for dupplicated data"
      ]
    },
    {
      "cell_type": "code",
      "execution_count": 17,
      "metadata": {
        "id": "uvrG3ihXhWJ9"
      },
      "outputs": [],
      "source": [
        "clust_data_=clust_data_.drop(columns=[\"CustomerID\",'StockCode','InvoiceNo','InvoiceDate',\"Year\"])"
      ]
    },
    {
      "cell_type": "code",
      "execution_count": 18,
      "metadata": {
        "colab": {
          "base_uri": "https://localhost:8080/"
        },
        "id": "gaYSUpR8hWJ-",
        "outputId": "60329916-6559-49a2-c7d1-610d113d4f1b"
      },
      "outputs": [
        {
          "output_type": "execute_result",
          "data": {
            "text/plain": [
              "6055"
            ]
          },
          "metadata": {},
          "execution_count": 18
        }
      ],
      "source": [
        "clust_data_.duplicated().sum()"
      ]
    },
    {
      "cell_type": "markdown",
      "metadata": {
        "id": "zXuYmH9XhWJ_"
      },
      "source": [
        "### Cleaned data"
      ]
    },
    {
      "cell_type": "code",
      "execution_count": 19,
      "metadata": {
        "id": "s-x_I2vehWKA"
      },
      "outputs": [],
      "source": [
        "cleaned_clust_data=clust_data_.drop_duplicates()"
      ]
    },
    {
      "cell_type": "code",
      "execution_count": 20,
      "metadata": {
        "colab": {
          "base_uri": "https://localhost:8080/"
        },
        "id": "62pREpe1hWKB",
        "outputId": "54ad79a8-fa15-4606-f0c6-b2d2946adbca"
      },
      "outputs": [
        {
          "output_type": "execute_result",
          "data": {
            "text/plain": [
              "(524016, 10)"
            ]
          },
          "metadata": {},
          "execution_count": 20
        }
      ],
      "source": [
        "cleaned_clust_data.shape"
      ]
    },
    {
      "cell_type": "markdown",
      "metadata": {
        "id": "VoQlv_TWhWKC"
      },
      "source": [
        "### Exploration"
      ]
    },
    {
      "cell_type": "code",
      "execution_count": 21,
      "metadata": {
        "id": "v3jL6W1IhWKC"
      },
      "outputs": [],
      "source": [
        "figsize=(14,6)\n",
        "\n",
        "def annotate_stacked_bars(fig):\n",
        "\n",
        "    plt.rcParams.update({'font.size':15})\n",
        "    total=cleaned_clust_data.shape[0]\n",
        "    for p in fig.patches:\n",
        "\n",
        "        if p.get_height()!=0:\n",
        "            height = p.get_height()\n",
        "            fig.text(p.get_x()+p.get_width()/2.,\n",
        "                    height + 3,\n",
        "                    '{:1.2%}'.format(height/total),\n",
        "                    ha=\"center\") \n",
        "    plt.show()"
      ]
    },
    {
      "cell_type": "code",
      "execution_count": 22,
      "metadata": {
        "colab": {
          "base_uri": "https://localhost:8080/",
          "height": 451
        },
        "id": "aK31A1SZhWKD",
        "outputId": "97fe2bb2-c408-4ed7-963f-e1ee5e92f75f"
      },
      "outputs": [
        {
          "output_type": "display_data",
          "data": {
            "text/plain": [
              "<Figure size 1008x432 with 1 Axes>"
            ],
            "image/png": "[encoded data removed]"
          },
          "metadata": {}
        }
      ],
      "source": [
        "order_per_country=cleaned_clust_data.groupby(\"Country\").count().sort_values(by=\"Description\",ascending=False)\n",
        "\n",
        "fig=order_per_country[\"Description\"].iloc[:10].plot(kind=\"bar\",figsize=figsize)"
      ]
    },
    {
      "cell_type": "code",
      "execution_count": 23,
      "metadata": {
        "colab": {
          "base_uri": "https://localhost:8080/",
          "height": 599
        },
        "id": "dEsYi0YchWKE",
        "outputId": "11b70d5a-c095-4733-800a-47846d15ee51"
      },
      "outputs": [
        {
          "output_type": "execute_result",
          "data": {
            "text/plain": [
              "<matplotlib.axes._subplots.AxesSubplot at 0x7fd85ddef640>"
            ]
          },
          "metadata": {},
          "execution_count": 23
        },
        {
          "output_type": "display_data",
          "data": {
            "text/plain": [
              "<Figure size 1008x432 with 1 Axes>"
            ],
            "image/png": "[encoded data removed]"
          },
          "metadata": {}
        }
      ],
      "source": [
        "order_per_product=cleaned_clust_data.groupby(\"Description\").count().sort_values(by=\"Country\",ascending=False)\n",
        "\n",
        "order_per_product[\"Country\"].iloc[:20].plot(kind=\"bar\",figsize=figsize)"
      ]
    },
    {
      "cell_type": "markdown",
      "metadata": {
        "id": "Rp9E797FhWKE"
      },
      "source": [
        "Some products are most popular like `WHITE HANGING HEART T-LIGHT HOLDER` but with UnitPrice 2.95"
      ]
    },
    {
      "cell_type": "code",
      "execution_count": 24,
      "metadata": {
        "colab": {
          "base_uri": "https://localhost:8080/",
          "height": 406
        },
        "id": "_xYFiHs1hWKF",
        "outputId": "e461f999-515e-4b5c-df8f-3a88bd0c359a"
      },
      "outputs": [
        {
          "output_type": "execute_result",
          "data": {
            "text/plain": [
              "<matplotlib.axes._subplots.AxesSubplot at 0x7fd865a0c3a0>"
            ]
          },
          "metadata": {},
          "execution_count": 24
        },
        {
          "output_type": "display_data",
          "data": {
            "text/plain": [
              "<Figure size 1008x432 with 1 Axes>"
            ],
            "image/png": "[encoded data removed]"
          },
          "metadata": {}
        }
      ],
      "source": [
        "cleaned_clust_data.groupby(\"Month\").sum()[\"Quantity\"].plot(kind=\"bar\",figsize=figsize)"
      ]
    },
    {
      "cell_type": "code",
      "execution_count": 25,
      "metadata": {
        "colab": {
          "base_uri": "https://localhost:8080/",
          "height": 406
        },
        "id": "VpNS2WQShWKG",
        "outputId": "b79b5aa4-ea80-4e04-b42c-c5510c60fd64"
      },
      "outputs": [
        {
          "output_type": "execute_result",
          "data": {
            "text/plain": [
              "<matplotlib.axes._subplots.AxesSubplot at 0x7fd8658031f0>"
            ]
          },
          "metadata": {},
          "execution_count": 25
        },
        {
          "output_type": "display_data",
          "data": {
            "text/plain": [
              "<Figure size 1008x432 with 1 Axes>"
            ],
            "image/png": "[encoded data removed]"
          },
          "metadata": {}
        }
      ],
      "source": [
        "cleaned_clust_data.groupby(\"Day\").sum()[\"Quantity\"].plot(kind=\"bar\",figsize=figsize)"
      ]
    },
    {
      "cell_type": "code",
      "execution_count": 26,
      "metadata": {
        "colab": {
          "base_uri": "https://localhost:8080/",
          "height": 406
        },
        "id": "vzeZOK5ZhWKH",
        "outputId": "9f6de25b-0e55-4960-ee0f-7983c6268542"
      },
      "outputs": [
        {
          "output_type": "execute_result",
          "data": {
            "text/plain": [
              "<matplotlib.axes._subplots.AxesSubplot at 0x7fd8600ae3a0>"
            ]
          },
          "metadata": {},
          "execution_count": 26
        },
        {
          "output_type": "display_data",
          "data": {
            "text/plain": [
              "<Figure size 1008x432 with 1 Axes>"
            ],
            "image/png": "[encoded data removed]"
          },
          "metadata": {}
        }
      ],
      "source": [
        "cleaned_clust_data.groupby(\"Hour\").sum()[\"Quantity\"].plot(kind=\"bar\",figsize=figsize)"
      ]
    },
    {
      "cell_type": "code",
      "execution_count": 27,
      "metadata": {
        "colab": {
          "base_uri": "https://localhost:8080/",
          "height": 410
        },
        "id": "W06Jsr-khWKI",
        "outputId": "564337c4-8827-40cc-f78d-45a80ab1a4a5"
      },
      "outputs": [
        {
          "output_type": "execute_result",
          "data": {
            "text/plain": [
              "<matplotlib.axes._subplots.AxesSubplot at 0x7fd859906e50>"
            ]
          },
          "metadata": {},
          "execution_count": 27
        },
        {
          "output_type": "display_data",
          "data": {
            "text/plain": [
              "<Figure size 1008x432 with 1 Axes>"
            ],
            "image/png": "[encoded data removed]"
          },
          "metadata": {}
        }
      ],
      "source": [
        "cleaned_clust_data.groupby(\"Minute\").sum()[\"Quantity\"].plot(kind=\"bar\",figsize=figsize)"
      ]
    },
    {
      "cell_type": "code",
      "execution_count": 28,
      "metadata": {
        "colab": {
          "base_uri": "https://localhost:8080/",
          "height": 388
        },
        "id": "6g9XAS6lhWKJ",
        "outputId": "083c3bd3-91cf-4d16-9a4f-4a884b17ea87"
      },
      "outputs": [
        {
          "output_type": "display_data",
          "data": {
            "text/plain": [
              "<Figure size 1008x432 with 1 Axes>"
            ],
            "image/png": "[encoded data removed]"
          },
          "metadata": {}
        }
      ],
      "source": [
        "cleaned_clust_data[\"Order_price\"].sort_values().plot(kind=\"hist\",bins=10000,figsize=figsize)\n",
        "plt.xlim(-50,300)\n",
        "plt.xlabel(\"order_price\")\n",
        "plt.show()"
      ]
    },
    {
      "cell_type": "markdown",
      "metadata": {
        "id": "CsGV1wYghWKJ"
      },
      "source": [
        "`Order_price` is right skeweed, the most order prices is between 0 and 50. To solve this problem of skewness we will use boxcox transformation."
      ]
    },
    {
      "cell_type": "code",
      "execution_count": 29,
      "metadata": {
        "colab": {
          "base_uri": "https://localhost:8080/",
          "height": 388
        },
        "id": "B2hv0YeYhWKK",
        "outputId": "814e239a-588f-482b-fe2d-dc80a2ab3a55"
      },
      "outputs": [
        {
          "output_type": "display_data",
          "data": {
            "text/plain": [
              "<Figure size 1008x432 with 1 Axes>"
            ],
            "image/png": "[encoded data removed]"
          },
          "metadata": {}
        }
      ],
      "source": [
        "cleaned_clust_data[\"UnitPrice\"].sort_values().plot(kind=\"hist\",bins=10000,figsize=figsize)\n",
        "plt.xlim(0,50)\n",
        "plt.xlabel(\"UnitPrice\")\n",
        "plt.show()"
      ]
    },
    {
      "cell_type": "code",
      "execution_count": 30,
      "metadata": {
        "colab": {
          "base_uri": "https://localhost:8080/",
          "height": 388
        },
        "id": "955J7_kehWKL",
        "outputId": "6d5f2a09-73db-49ce-83e1-71b6c794c9f3"
      },
      "outputs": [
        {
          "output_type": "display_data",
          "data": {
            "text/plain": [
              "<Figure size 1008x432 with 1 Axes>"
            ],
            "image/png": "[encoded data removed]"
          },
          "metadata": {}
        }
      ],
      "source": [
        "cleaned_clust_data[\"Quantity\"].plot(kind=\"hist\",bins=10000,figsize=figsize)\n",
        "plt.xlim(0,50)\n",
        "plt.xlabel(\"Quantity\")\n",
        "plt.show()"
      ]
    },
    {
      "cell_type": "code",
      "execution_count": 31,
      "metadata": {
        "colab": {
          "base_uri": "https://localhost:8080/",
          "height": 389
        },
        "id": "1AGCt5s_hWKL",
        "outputId": "0ac0e6d6-b5ed-4942-d2c1-e3ebe1d94178"
      },
      "outputs": [
        {
          "output_type": "execute_result",
          "data": {
            "text/plain": [
              "                           Description  Quantity  UnitPrice         Country  \\\n",
              "0   WHITE HANGING HEART T-LIGHT HOLDER         6       2.55  United Kingdom   \n",
              "1                  WHITE METAL LANTERN         6       3.39  United Kingdom   \n",
              "2       CREAM CUPID HEARTS COAT HANGER         8       2.75  United Kingdom   \n",
              "3  KNITTED UNION FLAG HOT WATER BOTTLE         6       3.39  United Kingdom   \n",
              "4       RED WOOLLY HOTTIE WHITE HEART.         6       3.39  United Kingdom   \n",
              "\n",
              "   Order_price Order_status  Month  Day  Hour  Minute  \n",
              "0        15.30         Done     12    1     8      26  \n",
              "1        20.34         Done     12    1     8      26  \n",
              "2        22.00         Done     12    1     8      26  \n",
              "3        20.34         Done     12    1     8      26  \n",
              "4        20.34         Done     12    1     8      26  "
            ],
            "text/html": [
              "\n",
              "  <div id=\"df-65f5bcfd-539d-49dc-a6af-75ef9380c0fb\">\n",
              "    <div class=\"colab-df-container\">\n",
              "      <div>\n",
              "<style scoped>\n",
              "    .dataframe tbody tr th:only-of-type {\n",
              "        vertical-align: middle;\n",
              "    }\n",
              "\n",
              "    .dataframe tbody tr th {\n",
              "        vertical-align: top;\n",
              "    }\n",
              "\n",
              "    .dataframe thead th {\n",
              "        text-align: right;\n",
              "    }\n",
              "</style>\n",
              "<table border=\"1\" class=\"dataframe\">\n",
              "  <thead>\n",
              "    <tr style=\"text-align: right;\">\n",
              "      <th></th>\n",
              "      <th>Description</th>\n",
              "      <th>Quantity</th>\n",
              "      <th>UnitPrice</th>\n",
              "      <th>Country</th>\n",
              "      <th>Order_price</th>\n",
              "      <th>Order_status</th>\n",
              "      <th>Month</th>\n",
              "      <th>Day</th>\n",
              "      <th>Hour</th>\n",
              "      <th>Minute</th>\n",
              "    </tr>\n",
              "  </thead>\n",
              "  <tbody>\n",
              "    <tr>\n",
              "      <th>0</th>\n",
              "      <td>WHITE HANGING HEART T-LIGHT HOLDER</td>\n",
              "      <td>6</td>\n",
              "      <td>2.55</td>\n",
              "      <td>United Kingdom</td>\n",
              "      <td>15.30</td>\n",
              "      <td>Done</td>\n",
              "      <td>12</td>\n",
              "      <td>1</td>\n",
              "      <td>8</td>\n",
              "      <td>26</td>\n",
              "    </tr>\n",
              "    <tr>\n",
              "      <th>1</th>\n",
              "      <td>WHITE METAL LANTERN</td>\n",
              "      <td>6</td>\n",
              "      <td>3.39</td>\n",
              "      <td>United Kingdom</td>\n",
              "      <td>20.34</td>\n",
              "      <td>Done</td>\n",
              "      <td>12</td>\n",
              "      <td>1</td>\n",
              "      <td>8</td>\n",
              "      <td>26</td>\n",
              "    </tr>\n",
              "    <tr>\n",
              "      <th>2</th>\n",
              "      <td>CREAM CUPID HEARTS COAT HANGER</td>\n",
              "      <td>8</td>\n",
              "      <td>2.75</td>\n",
              "      <td>United Kingdom</td>\n",
              "      <td>22.00</td>\n",
              "      <td>Done</td>\n",
              "      <td>12</td>\n",
              "      <td>1</td>\n",
              "      <td>8</td>\n",
              "      <td>26</td>\n",
              "    </tr>\n",
              "    <tr>\n",
              "      <th>3</th>\n",
              "      <td>KNITTED UNION FLAG HOT WATER BOTTLE</td>\n",
              "      <td>6</td>\n",
              "      <td>3.39</td>\n",
              "      <td>United Kingdom</td>\n",
              "      <td>20.34</td>\n",
              "      <td>Done</td>\n",
              "      <td>12</td>\n",
              "      <td>1</td>\n",
              "      <td>8</td>\n",
              "      <td>26</td>\n",
              "    </tr>\n",
              "    <tr>\n",
              "      <th>4</th>\n",
              "      <td>RED WOOLLY HOTTIE WHITE HEART.</td>\n",
              "      <td>6</td>\n",
              "      <td>3.39</td>\n",
              "      <td>United Kingdom</td>\n",
              "      <td>20.34</td>\n",
              "      <td>Done</td>\n",
              "      <td>12</td>\n",
              "      <td>1</td>\n",
              "      <td>8</td>\n",
              "      <td>26</td>\n",
              "    </tr>\n",
              "  </tbody>\n",
              "</table>\n",
              "</div>\n",
              "      <button class=\"colab-df-convert\" onclick=\"convertToInteractive('df-65f5bcfd-539d-49dc-a6af-75ef9380c0fb')\"\n",
              "              title=\"Convert this dataframe to an interactive table.\"\n",
              "              style=\"display:none;\">\n",
              "        \n",
              "  <svg xmlns=\"http://www.w3.org/2000/svg\" height=\"24px\"viewBox=\"0 0 24 24\"\n",
              "       width=\"24px\">\n",
              "    <path d=\"M0 0h24v24H0V0z\" fill=\"none\"/>\n",
              "    <path d=\"M18.56 5.44l.94 2.06.94-2.06 2.06-.94-2.06-.94-.94-2.06-.94 2.06-2.06.94zm-11 1L8.5 8.5l.94-2.06 2.06-.94-2.06-.94L8.5 2.5l-.94 2.06-2.06.94zm10 10l.94 2.06.94-2.06 2.06-.94-2.06-.94-.94-2.06-.94 2.06-2.06.94z\"/><path d=\"M17.41 7.96l-1.37-1.37c-.4-.4-.92-.59-1.43-.59-.52 0-1.04.2-1.43.59L10.3 9.45l-7.72 7.72c-.78.78-.78 2.05 0 2.83L4 21.41c.39.39.9.59 1.41.59.51 0 1.02-.2 1.41-.59l7.78-7.78 2.81-2.81c.8-.78.8-2.07 0-2.86zM5.41 20L4 18.59l7.72-7.72 1.47 1.35L5.41 20z\"/>\n",
              "  </svg>\n",
              "      </button>\n",
              "      \n",
              "  <style>\n",
              "    .colab-df-container {\n",
              "      display:flex;\n",
              "      flex-wrap:wrap;\n",
              "      gap: 12px;\n",
              "    }\n",
              "\n",
              "    .colab-df-convert {\n",
              "      background-color: #E8F0FE;\n",
              "      border: none;\n",
              "      border-radius: 50%;\n",
              "      cursor: pointer;\n",
              "      display: none;\n",
              "      fill: #1967D2;\n",
              "      height: 32px;\n",
              "      padding: 0 0 0 0;\n",
              "      width: 32px;\n",
              "    }\n",
              "\n",
              "    .colab-df-convert:hover {\n",
              "      background-color: #E2EBFA;\n",
              "      box-shadow: 0px 1px 2px rgba(60, 64, 67, 0.3), 0px 1px 3px 1px rgba(60, 64, 67, 0.15);\n",
              "      fill: #174EA6;\n",
              "    }\n",
              "\n",
              "    [theme=dark] .colab-df-convert {\n",
              "      background-color: #3B4455;\n",
              "      fill: #D2E3FC;\n",
              "    }\n",
              "\n",
              "    [theme=dark] .colab-df-convert:hover {\n",
              "      background-color: #434B5C;\n",
              "      box-shadow: 0px 1px 3px 1px rgba(0, 0, 0, 0.15);\n",
              "      filter: drop-shadow(0px 1px 2px rgba(0, 0, 0, 0.3));\n",
              "      fill: #FFFFFF;\n",
              "    }\n",
              "  </style>\n",
              "\n",
              "      <script>\n",
              "        const buttonEl =\n",
              "          document.querySelector('#df-65f5bcfd-539d-49dc-a6af-75ef9380c0fb button.colab-df-convert');\n",
              "        buttonEl.style.display =\n",
              "          google.colab.kernel.accessAllowed ? 'block' : 'none';\n",
              "\n",
              "        async function convertToInteractive(key) {\n",
              "          const element = document.querySelector('#df-65f5bcfd-539d-49dc-a6af-75ef9380c0fb');\n",
              "          const dataTable =\n",
              "            await google.colab.kernel.invokeFunction('convertToInteractive',\n",
              "                                                     [key], {});\n",
              "          if (!dataTable) return;\n",
              "\n",
              "          const docLinkHtml = 'Like what you see? Visit the ' +\n",
              "            '<a target=\"_blank\" href=https://colab.research.google.com/notebooks/data_table.ipynb>data table notebook</a>'\n",
              "            + ' to learn more about interactive tables.';\n",
              "          element.innerHTML = '';\n",
              "          dataTable['output_type'] = 'display_data';\n",
              "          await google.colab.output.renderOutput(dataTable, element);\n",
              "          const docLink = document.createElement('div');\n",
              "          docLink.innerHTML = docLinkHtml;\n",
              "          element.appendChild(docLink);\n",
              "        }\n",
              "      </script>\n",
              "    </div>\n",
              "  </div>\n",
              "  "
            ]
          },
          "metadata": {},
          "execution_count": 31
        }
      ],
      "source": [
        "cleaned_clust_data.head()"
      ]
    },
    {
      "cell_type": "markdown",
      "metadata": {
        "id": "0-4b1qoqhWKM"
      },
      "source": [
        "### Boxcox transformation"
      ]
    },
    {
      "cell_type": "code",
      "execution_count": 32,
      "metadata": {
        "id": "BNGxOMzbhWKN"
      },
      "outputs": [],
      "source": [
        "import numpy as np\n",
        "\n",
        "def get_best_lmbda(df,col,number_of_lmbda):\n",
        "    \n",
        "    \"\"\"\n",
        "    This function take take as inputs:\n",
        "    df: dataframe\n",
        "    col: a col to transform\n",
        "    number_of_lmbda: a value for box_cox function to transform col\n",
        "    \n",
        "    return:\n",
        "            return the best lmbda value to get the low skewness of col. And allow \n",
        "            to get a new col that follow Gaussian ditribution\n",
        "    \"\"\"\n",
        "\n",
        "    lmbda_values=[]\n",
        "\n",
        "    skeweness_values=[]\n",
        "\n",
        "    for lmbda in np.linspace(-1,1,number_of_lmbda):\n",
        "        \n",
        "        col_trans=stats.boxcox(df[col],lmbda=lmbda)\n",
        "\n",
        "        skeweness_values.append(np.abs(stats.skew(col_trans)))\n",
        "\n",
        "        lmbda_values.append(lmbda)\n",
        "\n",
        "    plt.plot(lmbda_values,skeweness_values)\n",
        "    \n",
        "    plt.ylabel(\"skewness\")\n",
        "    \n",
        "    plt.xlabel(\"lmbda_values\")\n",
        "    \n",
        "    plt.show()\n",
        "    \n",
        "    lmbda_optimal=lmbda_values[skeweness_values.index(min(skeweness_values))]\n",
        "\n",
        "    print(f\"Optimal value of lmbda est:{lmbda_optimal}\")\n",
        "\n",
        "    return lmbda_optimal\n",
        "\n",
        "\n",
        "def solve_skewness(df,col,lmbda=0.0):\n",
        "\n",
        "    fig,ax=plt.subplots(nrows=1,ncols=2,figsize=(10,6))\n",
        "\n",
        "    df[col+'_trans']=stats.boxcox(df[col],lmbda=lmbda)\n",
        "\n",
        "    ax[0].hist(df[col])\n",
        "    ax[1].hist(df[col+'_trans'])\n",
        "\n",
        "    ax[0].set_title(\"Orginal data\")\n",
        "    ax[1].set_title(\"Transformed data\")\n",
        "    ax[0].set_xlabel(col)\n",
        "    ax[1].set_xlabel(col+'_trans')\n",
        "\n",
        "    plt.show()\n",
        "\n",
        "    return df\n",
        "\n",
        "def normalize_num_cols(df,scaler):\n",
        "\n",
        "    df_standard=df.copy()\n",
        "\n",
        "    standardizing=scaler()\n",
        "    number_data=df.select_dtypes(include=\"number\")\n",
        "    numerical_cols=number_data.columns[number_data.nunique()>2]\n",
        "\n",
        "    standar_col_num=standardizing.fit_transform(df[numerical_cols])\n",
        "\n",
        "    df_standard[numerical_cols]=standar_col_num\n",
        "\n",
        "    return df_standard"
      ]
    },
    {
      "cell_type": "code",
      "execution_count": 33,
      "metadata": {
        "id": "FAVgvau7hWKQ"
      },
      "outputs": [],
      "source": [
        "def transform_data(df,to_transform_cols):\n",
        "\n",
        "    for col in to_transform_cols:\n",
        "\n",
        "        lmbda_optimal=get_best_lmbda(df,col,100)\n",
        "        df=solve_skewness(df,col,lmbda=lmbda_optimal)"
      ]
    },
    {
      "cell_type": "code",
      "execution_count": 34,
      "metadata": {
        "id": "LYs5v5dzhWKR"
      },
      "outputs": [],
      "source": [
        "to_transform=[\"UnitPrice\",\"Order_price\"]"
      ]
    },
    {
      "cell_type": "code",
      "execution_count": 35,
      "metadata": {
        "colab": {
          "base_uri": "https://localhost:8080/",
          "height": 1000
        },
        "id": "nwslTA_mhWKS",
        "outputId": "bd88048d-303a-416b-b5c5-22539fc4187e"
      },
      "outputs": [
        {
          "output_type": "display_data",
          "data": {
            "text/plain": [
              "<Figure size 576x396 with 1 Axes>"
            ],
            "image/png": "[encoded data removed]"
          },
          "metadata": {}
        },
        {
          "output_type": "stream",
          "name": "stdout",
          "text": [
            "Optimal value of lmbda est:-0.030303030303030276\n"
          ]
        },
        {
          "output_type": "display_data",
          "data": {
            "text/plain": [
              "<Figure size 720x432 with 2 Axes>"
            ],
            "image/png": "[encoded data removed]"
          },
          "metadata": {}
        },
        {
          "output_type": "display_data",
          "data": {
            "text/plain": [
              "<Figure size 576x396 with 1 Axes>"
            ],
            "image/png": "[encoded data removed]"
          },
          "metadata": {}
        },
        {
          "output_type": "stream",
          "name": "stdout",
          "text": [
            "Optimal value of lmbda est:-0.030303030303030276\n"
          ]
        },
        {
          "output_type": "display_data",
          "data": {
            "text/plain": [
              "<Figure size 720x432 with 2 Axes>"
            ],
            "image/png": "[encoded data removed]"
          },
          "metadata": {}
        }
      ],
      "source": [
        "transform_data(cleaned_clust_data,to_transform)"
      ]
    },
    {
      "cell_type": "code",
      "execution_count": 36,
      "metadata": {
        "id": "V_gq26yhhWKT"
      },
      "outputs": [],
      "source": [
        "from sklearn.preprocessing import StandardScaler, RobustScaler, MinMaxScaler"
      ]
    },
    {
      "cell_type": "code",
      "execution_count": 37,
      "metadata": {
        "id": "SGg803hnhWKT"
      },
      "outputs": [],
      "source": [
        "cleaned_clust_data_stan=normalize_num_cols(cleaned_clust_data,scaler=StandardScaler)"
      ]
    },
    {
      "cell_type": "code",
      "execution_count": 38,
      "metadata": {
        "colab": {
          "base_uri": "https://localhost:8080/",
          "height": 548
        },
        "id": "E6ZCtWoshWKU",
        "outputId": "af90634c-79b7-463b-bb36-ccb70f991c0b"
      },
      "outputs": [
        {
          "output_type": "execute_result",
          "data": {
            "text/plain": [
              "                           Description  Quantity  UnitPrice         Country  \\\n",
              "0   WHITE HANGING HEART T-LIGHT HOLDER -0.029534  -0.037920  United Kingdom   \n",
              "1                  WHITE METAL LANTERN -0.029534  -0.014663  United Kingdom   \n",
              "2       CREAM CUPID HEARTS COAT HANGER -0.016746  -0.032383  United Kingdom   \n",
              "3  KNITTED UNION FLAG HOT WATER BOTTLE -0.029534  -0.014663  United Kingdom   \n",
              "4       RED WOOLLY HOTTIE WHITE HEART. -0.029534  -0.014663  United Kingdom   \n",
              "\n",
              "   Order_price Order_status     Month       Day      Hour    Minute  \\\n",
              "0    -0.018295         Done  1.267427 -1.618946 -2.076519 -0.236896   \n",
              "1     0.000242         Done  1.267427 -1.618946 -2.076519 -0.236896   \n",
              "2     0.006347         Done  1.267427 -1.618946 -2.076519 -0.236896   \n",
              "3     0.000242         Done  1.267427 -1.618946 -2.076519 -0.236896   \n",
              "4     0.000242         Done  1.267427 -1.618946 -2.076519 -0.236896   \n",
              "\n",
              "   UnitPrice_trans  Order_price_trans  \n",
              "0         0.188945           0.492403  \n",
              "1         0.485375           0.727386  \n",
              "2         0.267803           0.791775  \n",
              "3         0.485375           0.727386  \n",
              "4         0.485375           0.727386  "
            ],
            "text/html": [
              "\n",
              "  <div id=\"df-992eb611-4688-4780-9026-c1c53da58f8e\">\n",
              "    <div class=\"colab-df-container\">\n",
              "      <div>\n",
              "<style scoped>\n",
              "    .dataframe tbody tr th:only-of-type {\n",
              "        vertical-align: middle;\n",
              "    }\n",
              "\n",
              "    .dataframe tbody tr th {\n",
              "        vertical-align: top;\n",
              "    }\n",
              "\n",
              "    .dataframe thead th {\n",
              "        text-align: right;\n",
              "    }\n",
              "</style>\n",
              "<table border=\"1\" class=\"dataframe\">\n",
              "  <thead>\n",
              "    <tr style=\"text-align: right;\">\n",
              "      <th></th>\n",
              "      <th>Description</th>\n",
              "      <th>Quantity</th>\n",
              "      <th>UnitPrice</th>\n",
              "      <th>Country</th>\n",
              "      <th>Order_price</th>\n",
              "      <th>Order_status</th>\n",
              "      <th>Month</th>\n",
              "      <th>Day</th>\n",
              "      <th>Hour</th>\n",
              "      <th>Minute</th>\n",
              "      <th>UnitPrice_trans</th>\n",
              "      <th>Order_price_trans</th>\n",
              "    </tr>\n",
              "  </thead>\n",
              "  <tbody>\n",
              "    <tr>\n",
              "      <th>0</th>\n",
              "      <td>WHITE HANGING HEART T-LIGHT HOLDER</td>\n",
              "      <td>-0.029534</td>\n",
              "      <td>-0.037920</td>\n",
              "      <td>United Kingdom</td>\n",
              "      <td>-0.018295</td>\n",
              "      <td>Done</td>\n",
              "      <td>1.267427</td>\n",
              "      <td>-1.618946</td>\n",
              "      <td>-2.076519</td>\n",
              "      <td>-0.236896</td>\n",
              "      <td>0.188945</td>\n",
              "      <td>0.492403</td>\n",
              "    </tr>\n",
              "    <tr>\n",
              "      <th>1</th>\n",
              "      <td>WHITE METAL LANTERN</td>\n",
              "      <td>-0.029534</td>\n",
              "      <td>-0.014663</td>\n",
              "      <td>United Kingdom</td>\n",
              "      <td>0.000242</td>\n",
              "      <td>Done</td>\n",
              "      <td>1.267427</td>\n",
              "      <td>-1.618946</td>\n",
              "      <td>-2.076519</td>\n",
              "      <td>-0.236896</td>\n",
              "      <td>0.485375</td>\n",
              "      <td>0.727386</td>\n",
              "    </tr>\n",
              "    <tr>\n",
              "      <th>2</th>\n",
              "      <td>CREAM CUPID HEARTS COAT HANGER</td>\n",
              "      <td>-0.016746</td>\n",
              "      <td>-0.032383</td>\n",
              "      <td>United Kingdom</td>\n",
              "      <td>0.006347</td>\n",
              "      <td>Done</td>\n",
              "      <td>1.267427</td>\n",
              "      <td>-1.618946</td>\n",
              "      <td>-2.076519</td>\n",
              "      <td>-0.236896</td>\n",
              "      <td>0.267803</td>\n",
              "      <td>0.791775</td>\n",
              "    </tr>\n",
              "    <tr>\n",
              "      <th>3</th>\n",
              "      <td>KNITTED UNION FLAG HOT WATER BOTTLE</td>\n",
              "      <td>-0.029534</td>\n",
              "      <td>-0.014663</td>\n",
              "      <td>United Kingdom</td>\n",
              "      <td>0.000242</td>\n",
              "      <td>Done</td>\n",
              "      <td>1.267427</td>\n",
              "      <td>-1.618946</td>\n",
              "      <td>-2.076519</td>\n",
              "      <td>-0.236896</td>\n",
              "      <td>0.485375</td>\n",
              "      <td>0.727386</td>\n",
              "    </tr>\n",
              "    <tr>\n",
              "      <th>4</th>\n",
              "      <td>RED WOOLLY HOTTIE WHITE HEART.</td>\n",
              "      <td>-0.029534</td>\n",
              "      <td>-0.014663</td>\n",
              "      <td>United Kingdom</td>\n",
              "      <td>0.000242</td>\n",
              "      <td>Done</td>\n",
              "      <td>1.267427</td>\n",
              "      <td>-1.618946</td>\n",
              "      <td>-2.076519</td>\n",
              "      <td>-0.236896</td>\n",
              "      <td>0.485375</td>\n",
              "      <td>0.727386</td>\n",
              "    </tr>\n",
              "  </tbody>\n",
              "</table>\n",
              "</div>\n",
              "      <button class=\"colab-df-convert\" onclick=\"convertToInteractive('df-992eb611-4688-4780-9026-c1c53da58f8e')\"\n",
              "              title=\"Convert this dataframe to an interactive table.\"\n",
              "              style=\"display:none;\">\n",
              "        \n",
              "  <svg xmlns=\"http://www.w3.org/2000/svg\" height=\"24px\"viewBox=\"0 0 24 24\"\n",
              "       width=\"24px\">\n",
              "    <path d=\"M0 0h24v24H0V0z\" fill=\"none\"/>\n",
              "    <path d=\"M18.56 5.44l.94 2.06.94-2.06 2.06-.94-2.06-.94-.94-2.06-.94 2.06-2.06.94zm-11 1L8.5 8.5l.94-2.06 2.06-.94-2.06-.94L8.5 2.5l-.94 2.06-2.06.94zm10 10l.94 2.06.94-2.06 2.06-.94-2.06-.94-.94-2.06-.94 2.06-2.06.94z\"/><path d=\"M17.41 7.96l-1.37-1.37c-.4-.4-.92-.59-1.43-.59-.52 0-1.04.2-1.43.59L10.3 9.45l-7.72 7.72c-.78.78-.78 2.05 0 2.83L4 21.41c.39.39.9.59 1.41.59.51 0 1.02-.2 1.41-.59l7.78-7.78 2.81-2.81c.8-.78.8-2.07 0-2.86zM5.41 20L4 18.59l7.72-7.72 1.47 1.35L5.41 20z\"/>\n",
              "  </svg>\n",
              "      </button>\n",
              "      \n",
              "  <style>\n",
              "    .colab-df-container {\n",
              "      display:flex;\n",
              "      flex-wrap:wrap;\n",
              "      gap: 12px;\n",
              "    }\n",
              "\n",
              "    .colab-df-convert {\n",
              "      background-color: #E8F0FE;\n",
              "      border: none;\n",
              "      border-radius: 50%;\n",
              "      cursor: pointer;\n",
              "      display: none;\n",
              "      fill: #1967D2;\n",
              "      height: 32px;\n",
              "      padding: 0 0 0 0;\n",
              "      width: 32px;\n",
              "    }\n",
              "\n",
              "    .colab-df-convert:hover {\n",
              "      background-color: #E2EBFA;\n",
              "      box-shadow: 0px 1px 2px rgba(60, 64, 67, 0.3), 0px 1px 3px 1px rgba(60, 64, 67, 0.15);\n",
              "      fill: #174EA6;\n",
              "    }\n",
              "\n",
              "    [theme=dark] .colab-df-convert {\n",
              "      background-color: #3B4455;\n",
              "      fill: #D2E3FC;\n",
              "    }\n",
              "\n",
              "    [theme=dark] .colab-df-convert:hover {\n",
              "      background-color: #434B5C;\n",
              "      box-shadow: 0px 1px 3px 1px rgba(0, 0, 0, 0.15);\n",
              "      filter: drop-shadow(0px 1px 2px rgba(0, 0, 0, 0.3));\n",
              "      fill: #FFFFFF;\n",
              "    }\n",
              "  </style>\n",
              "\n",
              "      <script>\n",
              "        const buttonEl =\n",
              "          document.querySelector('#df-992eb611-4688-4780-9026-c1c53da58f8e button.colab-df-convert');\n",
              "        buttonEl.style.display =\n",
              "          google.colab.kernel.accessAllowed ? 'block' : 'none';\n",
              "\n",
              "        async function convertToInteractive(key) {\n",
              "          const element = document.querySelector('#df-992eb611-4688-4780-9026-c1c53da58f8e');\n",
              "          const dataTable =\n",
              "            await google.colab.kernel.invokeFunction('convertToInteractive',\n",
              "                                                     [key], {});\n",
              "          if (!dataTable) return;\n",
              "\n",
              "          const docLinkHtml = 'Like what you see? Visit the ' +\n",
              "            '<a target=\"_blank\" href=https://colab.research.google.com/notebooks/data_table.ipynb>data table notebook</a>'\n",
              "            + ' to learn more about interactive tables.';\n",
              "          element.innerHTML = '';\n",
              "          dataTable['output_type'] = 'display_data';\n",
              "          await google.colab.output.renderOutput(dataTable, element);\n",
              "          const docLink = document.createElement('div');\n",
              "          docLink.innerHTML = docLinkHtml;\n",
              "          element.appendChild(docLink);\n",
              "        }\n",
              "      </script>\n",
              "    </div>\n",
              "  </div>\n",
              "  "
            ]
          },
          "metadata": {},
          "execution_count": 38
        }
      ],
      "source": [
        "cleaned_clust_data_stan.head()"
      ]
    },
    {
      "cell_type": "code",
      "execution_count": 39,
      "metadata": {
        "id": "ifMTwun1hWKV"
      },
      "outputs": [],
      "source": [
        "cleaned_clust_data_stan=cleaned_clust_data_stan.drop(columns=[\"Order_status\"])"
      ]
    },
    {
      "cell_type": "code",
      "execution_count": 40,
      "metadata": {
        "id": "nWLrS0pvCxNz"
      },
      "outputs": [],
      "source": [
        "cleaned_clust_data_stan.to_csv(\"cleaned_clust_data_stan.csv\",index=False)"
      ]
    },
    {
      "cell_type": "code",
      "execution_count": 41,
      "metadata": {
        "colab": {
          "base_uri": "https://localhost:8080/"
        },
        "id": "fuj1KQjVCxN0",
        "outputId": "73f10ee7-8ba9-4f73-d7c8-97bf52453803"
      },
      "outputs": [
        {
          "output_type": "execute_result",
          "data": {
            "text/plain": [
              "(524016, 11)"
            ]
          },
          "metadata": {},
          "execution_count": 41
        }
      ],
      "source": [
        "cleaned_clust_data_stan.shape"
      ]
    },
    {
      "cell_type": "code",
      "execution_count": 42,
      "metadata": {
        "colab": {
          "base_uri": "https://localhost:8080/"
        },
        "id": "PatqZIWqCxN0",
        "outputId": "4ada4b08-f98b-44aa-9682-b6b7e24529ea"
      },
      "outputs": [
        {
          "output_type": "execute_result",
          "data": {
            "text/plain": [
              "(4026, 38)"
            ]
          },
          "metadata": {},
          "execution_count": 42
        }
      ],
      "source": [
        "cleaned_clust_data_stan[\"Description\"].nunique(),cleaned_clust_data_stan[\"Country\"].nunique()"
      ]
    },
    {
      "cell_type": "code",
      "execution_count": 43,
      "metadata": {
        "id": "T04dhpo9CxN1"
      },
      "outputs": [],
      "source": [
        "cleaned_clust_data_stan=cleaned_clust_data_stan.drop(columns=[\"Description\"])"
      ]
    },
    {
      "cell_type": "code",
      "execution_count": 44,
      "metadata": {
        "id": "BoPF23ejhWKV"
      },
      "outputs": [],
      "source": [
        "cleaned_clust_data_stan=pd.get_dummies(cleaned_clust_data_stan)"
      ]
    },
    {
      "cell_type": "code",
      "execution_count": 45,
      "metadata": {
        "colab": {
          "base_uri": "https://localhost:8080/",
          "height": 317
        },
        "id": "9GLQgEVRhWKW",
        "outputId": "911a958b-6820-4b7a-d494-4fd3a6d7431e"
      },
      "outputs": [
        {
          "output_type": "execute_result",
          "data": {
            "text/plain": [
              "   Quantity  UnitPrice  Order_price     Month       Day      Hour    Minute  \\\n",
              "0 -0.029534  -0.037920    -0.018295  1.267427 -1.618946 -2.076519 -0.236896   \n",
              "1 -0.029534  -0.014663     0.000242  1.267427 -1.618946 -2.076519 -0.236896   \n",
              "2 -0.016746  -0.032383     0.006347  1.267427 -1.618946 -2.076519 -0.236896   \n",
              "3 -0.029534  -0.014663     0.000242  1.267427 -1.618946 -2.076519 -0.236896   \n",
              "4 -0.029534  -0.014663     0.000242  1.267427 -1.618946 -2.076519 -0.236896   \n",
              "\n",
              "   UnitPrice_trans  Order_price_trans  Country_Australia  ...  Country_RSA  \\\n",
              "0         0.188945           0.492403                  0  ...            0   \n",
              "1         0.485375           0.727386                  0  ...            0   \n",
              "2         0.267803           0.791775                  0  ...            0   \n",
              "3         0.485375           0.727386                  0  ...            0   \n",
              "4         0.485375           0.727386                  0  ...            0   \n",
              "\n",
              "   Country_Saudi Arabia  Country_Singapore  Country_Spain  Country_Sweden  \\\n",
              "0                     0                  0              0               0   \n",
              "1                     0                  0              0               0   \n",
              "2                     0                  0              0               0   \n",
              "3                     0                  0              0               0   \n",
              "4                     0                  0              0               0   \n",
              "\n",
              "   Country_Switzerland  Country_USA  Country_United Arab Emirates  \\\n",
              "0                    0            0                             0   \n",
              "1                    0            0                             0   \n",
              "2                    0            0                             0   \n",
              "3                    0            0                             0   \n",
              "4                    0            0                             0   \n",
              "\n",
              "   Country_United Kingdom  Country_Unspecified  \n",
              "0                       1                    0  \n",
              "1                       1                    0  \n",
              "2                       1                    0  \n",
              "3                       1                    0  \n",
              "4                       1                    0  \n",
              "\n",
              "[5 rows x 47 columns]"
            ],
            "text/html": [
              "\n",
              "  <div id=\"df-e0158d7d-b3f4-47cb-b95d-94d11153a468\">\n",
              "    <div class=\"colab-df-container\">\n",
              "      <div>\n",
              "<style scoped>\n",
              "    .dataframe tbody tr th:only-of-type {\n",
              "        vertical-align: middle;\n",
              "    }\n",
              "\n",
              "    .dataframe tbody tr th {\n",
              "        vertical-align: top;\n",
              "    }\n",
              "\n",
              "    .dataframe thead th {\n",
              "        text-align: right;\n",
              "    }\n",
              "</style>\n",
              "<table border=\"1\" class=\"dataframe\">\n",
              "  <thead>\n",
              "    <tr style=\"text-align: right;\">\n",
              "      <th></th>\n",
              "      <th>Quantity</th>\n",
              "      <th>UnitPrice</th>\n",
              "      <th>Order_price</th>\n",
              "      <th>Month</th>\n",
              "      <th>Day</th>\n",
              "      <th>Hour</th>\n",
              "      <th>Minute</th>\n",
              "      <th>UnitPrice_trans</th>\n",
              "      <th>Order_price_trans</th>\n",
              "      <th>Country_Australia</th>\n",
              "      <th>...</th>\n",
              "      <th>Country_RSA</th>\n",
              "      <th>Country_Saudi Arabia</th>\n",
              "      <th>Country_Singapore</th>\n",
              "      <th>Country_Spain</th>\n",
              "      <th>Country_Sweden</th>\n",
              "      <th>Country_Switzerland</th>\n",
              "      <th>Country_USA</th>\n",
              "      <th>Country_United Arab Emirates</th>\n",
              "      <th>Country_United Kingdom</th>\n",
              "      <th>Country_Unspecified</th>\n",
              "    </tr>\n",
              "  </thead>\n",
              "  <tbody>\n",
              "    <tr>\n",
              "      <th>0</th>\n",
              "      <td>-0.029534</td>\n",
              "      <td>-0.037920</td>\n",
              "      <td>-0.018295</td>\n",
              "      <td>1.267427</td>\n",
              "      <td>-1.618946</td>\n",
              "      <td>-2.076519</td>\n",
              "      <td>-0.236896</td>\n",
              "      <td>0.188945</td>\n",
              "      <td>0.492403</td>\n",
              "      <td>0</td>\n",
              "      <td>...</td>\n",
              "      <td>0</td>\n",
              "      <td>0</td>\n",
              "      <td>0</td>\n",
              "      <td>0</td>\n",
              "      <td>0</td>\n",
              "      <td>0</td>\n",
              "      <td>0</td>\n",
              "      <td>0</td>\n",
              "      <td>1</td>\n",
              "      <td>0</td>\n",
              "    </tr>\n",
              "    <tr>\n",
              "      <th>1</th>\n",
              "      <td>-0.029534</td>\n",
              "      <td>-0.014663</td>\n",
              "      <td>0.000242</td>\n",
              "      <td>1.267427</td>\n",
              "      <td>-1.618946</td>\n",
              "      <td>-2.076519</td>\n",
              "      <td>-0.236896</td>\n",
              "      <td>0.485375</td>\n",
              "      <td>0.727386</td>\n",
              "      <td>0</td>\n",
              "      <td>...</td>\n",
              "      <td>0</td>\n",
              "      <td>0</td>\n",
              "      <td>0</td>\n",
              "      <td>0</td>\n",
              "      <td>0</td>\n",
              "      <td>0</td>\n",
              "      <td>0</td>\n",
              "      <td>0</td>\n",
              "      <td>1</td>\n",
              "      <td>0</td>\n",
              "    </tr>\n",
              "    <tr>\n",
              "      <th>2</th>\n",
              "      <td>-0.016746</td>\n",
              "      <td>-0.032383</td>\n",
              "      <td>0.006347</td>\n",
              "      <td>1.267427</td>\n",
              "      <td>-1.618946</td>\n",
              "      <td>-2.076519</td>\n",
              "      <td>-0.236896</td>\n",
              "      <td>0.267803</td>\n",
              "      <td>0.791775</td>\n",
              "      <td>0</td>\n",
              "      <td>...</td>\n",
              "      <td>0</td>\n",
              "      <td>0</td>\n",
              "      <td>0</td>\n",
              "      <td>0</td>\n",
              "      <td>0</td>\n",
              "      <td>0</td>\n",
              "      <td>0</td>\n",
              "      <td>0</td>\n",
              "      <td>1</td>\n",
              "      <td>0</td>\n",
              "    </tr>\n",
              "    <tr>\n",
              "      <th>3</th>\n",
              "      <td>-0.029534</td>\n",
              "      <td>-0.014663</td>\n",
              "      <td>0.000242</td>\n",
              "      <td>1.267427</td>\n",
              "      <td>-1.618946</td>\n",
              "      <td>-2.076519</td>\n",
              "      <td>-0.236896</td>\n",
              "      <td>0.485375</td>\n",
              "      <td>0.727386</td>\n",
              "      <td>0</td>\n",
              "      <td>...</td>\n",
              "      <td>0</td>\n",
              "      <td>0</td>\n",
              "      <td>0</td>\n",
              "      <td>0</td>\n",
              "      <td>0</td>\n",
              "      <td>0</td>\n",
              "      <td>0</td>\n",
              "      <td>0</td>\n",
              "      <td>1</td>\n",
              "      <td>0</td>\n",
              "    </tr>\n",
              "    <tr>\n",
              "      <th>4</th>\n",
              "      <td>-0.029534</td>\n",
              "      <td>-0.014663</td>\n",
              "      <td>0.000242</td>\n",
              "      <td>1.267427</td>\n",
              "      <td>-1.618946</td>\n",
              "      <td>-2.076519</td>\n",
              "      <td>-0.236896</td>\n",
              "      <td>0.485375</td>\n",
              "      <td>0.727386</td>\n",
              "      <td>0</td>\n",
              "      <td>...</td>\n",
              "      <td>0</td>\n",
              "      <td>0</td>\n",
              "      <td>0</td>\n",
              "      <td>0</td>\n",
              "      <td>0</td>\n",
              "      <td>0</td>\n",
              "      <td>0</td>\n",
              "      <td>0</td>\n",
              "      <td>1</td>\n",
              "      <td>0</td>\n",
              "    </tr>\n",
              "  </tbody>\n",
              "</table>\n",
              "<p>5 rows × 47 columns</p>\n",
              "</div>\n",
              "      <button class=\"colab-df-convert\" onclick=\"convertToInteractive('df-e0158d7d-b3f4-47cb-b95d-94d11153a468')\"\n",
              "              title=\"Convert this dataframe to an interactive table.\"\n",
              "              style=\"display:none;\">\n",
              "        \n",
              "  <svg xmlns=\"http://www.w3.org/2000/svg\" height=\"24px\"viewBox=\"0 0 24 24\"\n",
              "       width=\"24px\">\n",
              "    <path d=\"M0 0h24v24H0V0z\" fill=\"none\"/>\n",
              "    <path d=\"M18.56 5.44l.94 2.06.94-2.06 2.06-.94-2.06-.94-.94-2.06-.94 2.06-2.06.94zm-11 1L8.5 8.5l.94-2.06 2.06-.94-2.06-.94L8.5 2.5l-.94 2.06-2.06.94zm10 10l.94 2.06.94-2.06 2.06-.94-2.06-.94-.94-2.06-.94 2.06-2.06.94z\"/><path d=\"M17.41 7.96l-1.37-1.37c-.4-.4-.92-.59-1.43-.59-.52 0-1.04.2-1.43.59L10.3 9.45l-7.72 7.72c-.78.78-.78 2.05 0 2.83L4 21.41c.39.39.9.59 1.41.59.51 0 1.02-.2 1.41-.59l7.78-7.78 2.81-2.81c.8-.78.8-2.07 0-2.86zM5.41 20L4 18.59l7.72-7.72 1.47 1.35L5.41 20z\"/>\n",
              "  </svg>\n",
              "      </button>\n",
              "      \n",
              "  <style>\n",
              "    .colab-df-container {\n",
              "      display:flex;\n",
              "      flex-wrap:wrap;\n",
              "      gap: 12px;\n",
              "    }\n",
              "\n",
              "    .colab-df-convert {\n",
              "      background-color: #E8F0FE;\n",
              "      border: none;\n",
              "      border-radius: 50%;\n",
              "      cursor: pointer;\n",
              "      display: none;\n",
              "      fill: #1967D2;\n",
              "      height: 32px;\n",
              "      padding: 0 0 0 0;\n",
              "      width: 32px;\n",
              "    }\n",
              "\n",
              "    .colab-df-convert:hover {\n",
              "      background-color: #E2EBFA;\n",
              "      box-shadow: 0px 1px 2px rgba(60, 64, 67, 0.3), 0px 1px 3px 1px rgba(60, 64, 67, 0.15);\n",
              "      fill: #174EA6;\n",
              "    }\n",
              "\n",
              "    [theme=dark] .colab-df-convert {\n",
              "      background-color: #3B4455;\n",
              "      fill: #D2E3FC;\n",
              "    }\n",
              "\n",
              "    [theme=dark] .colab-df-convert:hover {\n",
              "      background-color: #434B5C;\n",
              "      box-shadow: 0px 1px 3px 1px rgba(0, 0, 0, 0.15);\n",
              "      filter: drop-shadow(0px 1px 2px rgba(0, 0, 0, 0.3));\n",
              "      fill: #FFFFFF;\n",
              "    }\n",
              "  </style>\n",
              "\n",
              "      <script>\n",
              "        const buttonEl =\n",
              "          document.querySelector('#df-e0158d7d-b3f4-47cb-b95d-94d11153a468 button.colab-df-convert');\n",
              "        buttonEl.style.display =\n",
              "          google.colab.kernel.accessAllowed ? 'block' : 'none';\n",
              "\n",
              "        async function convertToInteractive(key) {\n",
              "          const element = document.querySelector('#df-e0158d7d-b3f4-47cb-b95d-94d11153a468');\n",
              "          const dataTable =\n",
              "            await google.colab.kernel.invokeFunction('convertToInteractive',\n",
              "                                                     [key], {});\n",
              "          if (!dataTable) return;\n",
              "\n",
              "          const docLinkHtml = 'Like what you see? Visit the ' +\n",
              "            '<a target=\"_blank\" href=https://colab.research.google.com/notebooks/data_table.ipynb>data table notebook</a>'\n",
              "            + ' to learn more about interactive tables.';\n",
              "          element.innerHTML = '';\n",
              "          dataTable['output_type'] = 'display_data';\n",
              "          await google.colab.output.renderOutput(dataTable, element);\n",
              "          const docLink = document.createElement('div');\n",
              "          docLink.innerHTML = docLinkHtml;\n",
              "          element.appendChild(docLink);\n",
              "        }\n",
              "      </script>\n",
              "    </div>\n",
              "  </div>\n",
              "  "
            ]
          },
          "metadata": {},
          "execution_count": 45
        }
      ],
      "source": [
        "cleaned_clust_data_stan.head()"
      ]
    },
    {
      "cell_type": "code",
      "execution_count": 46,
      "metadata": {
        "id": "3VESLtijjQJ0"
      },
      "outputs": [],
      "source": [
        "cleaned_clust_data_stan.to_csv(\"cleaned_and_encoded_data.csv\",index=False)"
      ]
    }
  ],
  "metadata": {
    "colab": {
      "collapsed_sections": [
        "Qgp5596phWJy",
        "OMM2ACE5hWJ8",
        "zXuYmH9XhWJ_"
      ],
      "provenance": [],
      "include_colab_link": true
    },
    "kernelspec": {
      "display_name": "Python 3.9.14 64-bit ('3.9.14')",
      "language": "python",
      "name": "python3"
    },
    "language_info": {
      "codemirror_mode": {
        "name": "ipython",
        "version": 3
      },
      "file_extension": ".py",
      "mimetype": "text/x-python",
      "name": "python",
      "nbconvert_exporter": "python",
      "pygments_lexer": "ipython3",
      "version": "3.9.14"
    },
    "orig_nbformat": 4,
    "vscode": {
      "interpreter": {
        "hash": "9b51932b85eb61d61256980453aff19f4b3fb51a4f18cfee8210c742a88c8ee3"
      }
    }
  },
  "nbformat": 4,
  "nbformat_minor": 0
}